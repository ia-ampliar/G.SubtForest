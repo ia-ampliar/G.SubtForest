{
 "cells": [
  {
   "cell_type": "markdown",
   "id": "3401b5cb",
   "metadata": {},
   "source": [
    "# Análise de Subtipos Moleculares\n",
    "\n",
    "Este notebook integra todas as etapas do fluxo de trabalho para análise de subtipos moleculares, utilizando os módulos modularizados."
   ]
  },
  {
   "cell_type": "markdown",
   "id": "setup-section",
   "metadata": {},
   "source": [
    "### **Configuração Inicial e Importações**"
   ]
  },
  {
   "cell_type": "code",
   "execution_count": null,
   "id": "imports",
   "metadata": {},
   "outputs": [],
   "source": [
    "# Importações padrão\n",
    "import pandas as pd\n",
    "import importlib\n",
    "import numpy as np\n",
    "import matplotlib.pyplot as plt\n",
    "import seaborn as sns\n",
    "import os\n",
    "import json\n",
    "import shap\n",
    "\n",
    "# Importar módulos personalizados\n",
    "from modules.data_loader import DataLoader\n",
    "from modules.preprocessor import Preprocessor\n",
    "from modules.modeling import RandomForestKFoldRunner\n",
    "from modules.visualization import Visualization\n",
    "\n",
    "from modules.panel_manager import PanelManager\n",
    "import modules.model_evaluation as model_evaluation_module\n",
    "import modules.visualization as visualization_module\n",
    "from modules.model_evaluation import ModelEvaluator"
   ]
  },
  {
   "cell_type": "code",
   "execution_count": null,
   "id": "setup-dirs",
   "metadata": {},
   "outputs": [],
   "source": [
    "# Configurar diretórios\n",
    "data_dir = 'datas'\n",
    "output_dir = 'outputs'\n",
    "results_dir = 'results'\n",
    "\n",
    "# Criar diretórios se não existirem\n",
    "for directory in [output_dir, results_dir]:\n",
    "    if not os.path.exists(directory):\n",
    "        os.makedirs(directory)"
   ]
  },
  {
   "cell_type": "markdown",
   "id": "342d017c",
   "metadata": {},
   "source": [
    "# **Etapa 1. Geração da Tabela de Genes Vs Subtipos**"
   ]
  },
  {
   "cell_type": "markdown",
   "id": "data-loading-section",
   "metadata": {},
   "source": [
    "### 1.1. Carregamento de Dados"
   ]
  },
  {
   "cell_type": "code",
   "execution_count": null,
   "id": "load-data",
   "metadata": {},
   "outputs": [],
   "source": [
    "# Inicializar o carregador de dados\n",
    "data_loader = DataLoader(data_dir=data_dir)\n",
    "\n",
    "# Carregar dados clínicos\n",
    "clinical_data = data_loader.load_clinical_data()\n",
    "clinical_data.head()"
   ]
  },
  {
   "cell_type": "markdown",
   "id": "82c19464",
   "metadata": {},
   "source": [
    "### Informações sobre o conjunto de dados\n",
    "\n",
    "**Subtipos Moleculares**"
   ]
  },
  {
   "cell_type": "code",
   "execution_count": null,
   "id": "subtype-stats",
   "metadata": {},
   "outputs": [],
   "source": [
    "# Estatísticas dos subtipos\n",
    "subtype_stats = data_loader.get_subtype_statistics(clinical_data)"
   ]
  },
  {
   "cell_type": "markdown",
   "id": "c11ce461",
   "metadata": {},
   "source": [
    "**SNV**"
   ]
  },
  {
   "cell_type": "code",
   "execution_count": null,
   "id": "load-somatic",
   "metadata": {},
   "outputs": [],
   "source": [
    "# Carregar dados somáticos\n",
    "somatic_data = data_loader.load_somatic_data()\n",
    "somatic_data.head()"
   ]
  },
  {
   "cell_type": "code",
   "execution_count": null,
   "id": "49f52517",
   "metadata": {},
   "outputs": [],
   "source": [
    "print(f\"Quanditade total de amostras: {len(somatic_data['Sample_ID'])}\")\n",
    "print(f\"Quantidade de casos diferentes: {len(somatic_data['Sample_ID'].unique())}\")"
   ]
  },
  {
   "cell_type": "markdown",
   "id": "preprocessing-section",
   "metadata": {},
   "source": [
    "### 1.2. Pré-processamento de Dados"
   ]
  },
  {
   "cell_type": "code",
   "execution_count": null,
   "id": "merge-data",
   "metadata": {},
   "outputs": [],
   "source": [
    "# Inicializar o pré-processador\n",
    "preprocessor = Preprocessor(output_dir=output_dir)\n",
    "\n",
    "# Mesclar dados clínicos e somáticos\n",
    "merged_df = preprocessor.merge_clinical_and_somatic(clinical_data, somatic_data)\n",
    "merged_df.head()"
   ]
  },
  {
   "cell_type": "markdown",
   "id": "91c2cf71",
   "metadata": {},
   "source": [
    "### 1.3 - Fazendo operações na tabela mesclada"
   ]
  },
  {
   "cell_type": "markdown",
   "id": "1002cf21",
   "metadata": {},
   "source": [
    "As amostras que possuem na coluna `effect` o valor `synonymous_variant` são irrelevantes para esse estudo. Por isso serão exluida todas as amostras com esse valor. "
   ]
  },
  {
   "cell_type": "code",
   "execution_count": null,
   "id": "create-matrix",
   "metadata": {},
   "outputs": [],
   "source": [
    "# Criar matriz de genes\n",
    "gene_matrix = preprocessor.create_gene_matrix(somatic_data, merged_df)\n",
    "print(f\"Dimensões da matriz de genes: {gene_matrix.shape}\")\n",
    "gene_matrix.head()"
   ]
  },
  {
   "cell_type": "markdown",
   "id": "c1d39724",
   "metadata": {},
   "source": [
    "# **Etapa 2. K-Fold e Geração dos valores SHAP**\n",
    "\n",
    "Uma vez gereda a tabela dos genes e subtipos moleculares, executa o k-fold para obter os valores SHAP de cada gene."
   ]
  },
  {
   "cell_type": "markdown",
   "id": "visualization-section",
   "metadata": {},
   "source": [
    "### 2.1. Visualização Exploratória"
   ]
  },
  {
   "cell_type": "code",
   "execution_count": null,
   "id": "viz-init",
   "metadata": {},
   "outputs": [],
   "source": [
    "# Inicializar o visualizador\n",
    "viz = Visualization(output_dir=output_dir)"
   ]
  },
  {
   "cell_type": "code",
   "execution_count": null,
   "id": "plot-distribution",
   "metadata": {},
   "outputs": [],
   "source": [
    "# Plotar distribuição de subtipos\n",
    "fig_dist = viz.plot_subtype_distribution(clinical_data)\n",
    "viz.save_figure(fig_dist, 'subtype_distribution')\n",
    "fig_dist"
   ]
  },
  {
   "cell_type": "code",
   "execution_count": null,
   "id": "plot-gene-freq",
   "metadata": {},
   "outputs": [],
   "source": [
    "# Plotar frequência de genes\n",
    "df_final = pd.read_csv('outputs/gene_subtype_table.csv')\n",
    "fig_freq = viz.plot_gene_frequency(df_final, top_n=20)\n",
    "viz.save_figure(fig_freq, 'gene_frequency_top20')\n",
    "fig_freq\n"
   ]
  },
  {
   "cell_type": "code",
   "execution_count": null,
   "id": "plot-heatmap",
   "metadata": {},
   "outputs": [],
   "source": [
    "# Plotar heatmap de genes por subtipo\n",
    "fig_heatmap = viz.plot_gene_subtype_heatmap(df_final, top_n=15)\n",
    "viz.save_figure(fig_heatmap, 'gene_subtype_heatmap')\n",
    "fig_heatmap\n"
   ]
  },
  {
   "cell_type": "markdown",
   "id": "modeling-prep-section",
   "metadata": {},
   "source": [
    "### 2.2. Preparação para Modelagem"
   ]
  },
  {
   "cell_type": "markdown",
   "id": "b163923a",
   "metadata": {},
   "source": [
    "##### Separando grupo teste hold out\n",
    "`Verificando se a lista dos casos de test utilizados como teste para o ensemble estão no conjunto dos casos restantes`"
   ]
  },
  {
   "cell_type": "code",
   "execution_count": null,
   "id": "20ea371f",
   "metadata": {},
   "outputs": [],
   "source": [
    "test_list = ['TCGA-D7-A6EY', 'TCGA-CD-A48C', 'TCGA-D7-5578', 'TCGA-CG-4469', 'TCGA-HU-A4GD', 'TCGA-BR-8371', 'TCGA-CD-A4MJ', 'TCGA-BR-8291', 'TCGA-RD-A8N4', 'TCGA-BR-6801', 'TCGA-CG-4462', 'TCGA-RD-A8N2', 'TCGA-D7-6822', 'TCGA-CD-8530', 'TCGA-D7-A748', 'TCGA-HU-A4H3', 'TCGA-HF-A5NB', 'TCGA-BR-7715', 'TCGA-D7-A6EZ', 'TCGA-B7-A5TN', 'TCGA-HF-7136', 'TCGA-CG-4444', 'TCGA-D7-6518', 'TCGA-BR-7723', 'TCGA-RD-A7BS', 'TCGA-D7-6521', 'TCGA-BR-6707', 'TCGA-BR-A4IZ', 'TCGA-D7-A747', 'TCGA-VQ-A8PD', 'TCGA-VQ-A923', 'TCGA-D7-A6F0', 'TCGA-HU-A4H8', 'TCGA-VQ-A8PF', 'TCGA-HU-A4GF', 'TCGA-BR-7196', 'TCGA-BR-6852', 'TCGA-BR-7959', 'TCGA-VQ-A8P8', 'TCGA-BR-7957', 'TCGA-BR-8590', 'TCGA-MX-A5UJ', 'TCGA-BR-8679', 'TCGA-BR-6566', 'TCGA-D7-8572', 'TCGA-VQ-AA69', 'TCGA-HF-7132', 'TCGA-CG-4443', 'TCGA-VQ-A8PB', 'TCGA-BR-4279', 'TCGA-CD-8535', 'TCGA-CD-A486', 'TCGA-VQ-A8PX', 'TCGA-HU-8604', 'TCGA-MX-A5UG', 'TCGA-BR-4357', 'TCGA-HU-A4G9', 'TCGA-BR-A4QI', 'TCGA-HU-A4GU', 'TCGA-BR-A452', 'TCGA-D7-6519', 'TCGA-D7-8570', 'TCGA-HU-A4H6', 'TCGA-CG-5720', 'TCGA-BR-7901', 'TCGA-BR-6706', 'TCGA-BR-8687', 'TCGA-VQ-A928', 'TCGA-BR-8081', 'TCGA-3M-AB47', 'TCGA-CG-4436', 'TCGA-BR-8058', 'TCGA-VQ-A91W', 'TCGA-BR-4361', 'TCGA-BR-4370', 'TCGA-D7-A6EX', 'TCGA-BR-7707', 'TCGA-CG-4477', 'TCGA-CG-5726', 'TCGA-BR-4253', 'TCGA-D7-A6F2', 'TCGA-HU-8249']"
   ]
  },
  {
   "cell_type": "code",
   "execution_count": null,
   "id": "train-test-split",
   "metadata": {},
   "outputs": [],
   "source": [
    "# Dividir em treino/validação e teste\n",
    "X_train_val, y_train_val, X_test, y_test, sample_ids, train_val_df, test_df = preprocessor.create_train_test_split(test_list, df_final)\n"
   ]
  },
  {
   "cell_type": "markdown",
   "id": "a252bb19",
   "metadata": {},
   "source": [
    "### 2.3. **Modelagem com Random Forest** - Treinando Modelos e Obtendo Valores SHAP"
   ]
  },
  {
   "cell_type": "code",
   "execution_count": null,
   "id": "train-evaluate",
   "metadata": {},
   "outputs": [],
   "source": [
    "# Treinar e avaliar modelo com K-Fold CV\n",
    "runner = RandomForestKFoldRunner(\n",
    "    n_splits=10,\n",
    "    random_state=42,\n",
    "    output_dir=\"outputs\",\n",
    "    n_iter_search=10\n",
    ")\n",
    "\n",
    "results = runner.run(X_train_val, y_train_val, train_val_df)\n"
   ]
  },
  {
   "cell_type": "markdown",
   "id": "54f1e434",
   "metadata": {},
   "source": [
    "# **Etapa 3 - Gerando Métricas de Avaliação dos Modelos**"
   ]
  },
  {
   "cell_type": "code",
   "execution_count": null,
   "id": "etapa3-modular-code",
   "metadata": {},
   "outputs": [],
   "source": [
    "# Inicializa gerenciadores\n",
    "panel_manager = PanelManager()\n",
    "evaluator = ModelEvaluator(output_dir=output_dir)\n",
    "viz = Visualization(output_dir=output_dir)\n",
    "\n",
    "panel_json_path = os.path.join('datas', 'genetic_panels.json')\n",
    "# Carrega painéis genéticos (usa caminho padrão datas/genetic_panels.json)\n",
    "panels = panel_manager.load_panels_from_json(panel_json_path)\n",
    "\n",
    "# Seleciona painéis para avaliação (todos por padrão)\n",
    "selected_panels = list(panels.keys())\n",
    "\n",
    "# Verifica se df_final e test_list estão definidos\n",
    "assert 'df_final' in globals(), \"df_final não encontrado. Garanta que a tabela de genes vs subtipos foi carregada anteriormente.\"\n",
    "assert 'test_list' in globals(), \"test_list não encontrado. Garanta que a lista de casos de teste foi definida anteriormente.\"\n",
    "\n",
    "results_por_painel = {}\n",
    "for panel_name in selected_panels:\n",
    "    print(f\"=== Avaliando painel: {panel_name} ===\")\n",
    "    panel_out_dir = os.path.join(output_dir, 'panels_results', panel_name)\n",
    "    os.makedirs(panel_out_dir, exist_ok=True)\n",
    "\n",
    "    # Executa a geração de métricas alinhada ao notebook 'etapa3-gerando-metricas'\n",
    "    result = evaluator.metrics_from_json(df_final, panels, panel_name, path=panel_out_dir, test_list=test_list)\n",
    "\n",
    "    # Calcula relatório médio e plota visualizações\n",
    "    avg_report = evaluator.average_classification_report(result['reports'])\n",
    "    fig1 = viz.plot_avg_classification_report_heatmap(avg_report, title=f\"Métricas médias por classe - {panel_name}\")\n",
    "    viz.save_figure(fig1, filename='avg_report_heatmap', path=os.path.join(panel_out_dir, 'figures'))\n",
    "    fig1\n",
    "    \n",
    "    fig2 = viz.plot_avg_metrics_bar(avg_report, include_accuracy=True, title=f\"Métricas médias (Macro/Weighted) - {panel_name}\")\n",
    "    viz.save_figure(fig2, filename='avg_metrics_bar', path=os.path.join(panel_out_dir, 'figures'))\n",
    "    fig2\n",
    "    \n",
    "    results_por_painel[panel_name] = {\n",
    "        'avg_report': avg_report,\n",
    "        'metrics_df': result.get('metrics_df')\n",
    "    }\n",
    "\n",
    "print(\"\\n✅ Etapa 3 (modular) finalizada: métricas e visualizações salvas em 'outputs/panels_results/<painel>/figures'\")"
   ]
  }
 ],
 "metadata": {
  "kernelspec": {
   "display_name": "venv",
   "language": "python",
   "name": "python3"
  },
  "language_info": {
   "codemirror_mode": {
    "name": "ipython",
    "version": 3
   },
   "file_extension": ".py",
   "mimetype": "text/x-python",
   "name": "python",
   "nbconvert_exporter": "python",
   "pygments_lexer": "ipython3",
   "version": "3.13.5"
  }
 },
 "nbformat": 4,
 "nbformat_minor": 5
}
